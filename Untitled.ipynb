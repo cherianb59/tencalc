{
 "cells": [
  {
   "cell_type": "code",
   "execution_count": 9,
   "id": "e1818e4a-e4cb-4c17-95a9-026dbdee5e4f",
   "metadata": {},
   "outputs": [
    {
     "name": "stdout",
     "output_type": "stream",
     "text": [
      "[-1.  -0.8 -0.6 -0.4 -0.2 -0.   0.2  0.4  0.6  0.8  1. ]\n"
     ]
    }
   ],
   "source": [
    "import numpy as np \n",
    "def slider_range(min,max,step=1):\n",
    "  sr = np.around((np.arange(min,max + step,step)),2)\n",
    "  \n",
    "  if sr[-1] != max: sr[-1] = max\n",
    "  return(sr)\n",
    "\n",
    "print(slider_range(-1,1,0.2))"
   ]
  },
  {
   "cell_type": "code",
   "execution_count": 30,
   "id": "656ffd65-2d42-4b6f-80e8-4f767dc3560d",
   "metadata": {},
   "outputs": [
    {
     "ename": "NameError",
     "evalue": "name 'Match' is not defined",
     "output_type": "error",
     "traceback": [
      "\u001b[0;31m---------------------------------------------------------------------------\u001b[0m",
      "\u001b[0;31mNameError\u001b[0m                                 Traceback (most recent call last)",
      "\u001b[0;32m/tmp/ipykernel_1214473/930431148.py\u001b[0m in \u001b[0;36m<module>\u001b[0;34m\u001b[0m\n\u001b[0;32m----> 1\u001b[0;31m \u001b[0mmatch\u001b[0m \u001b[0;34m=\u001b[0m \u001b[0mMatch\u001b[0m\u001b[0;34m(\u001b[0m\u001b[0;36m1\u001b[0m\u001b[0;34m,\u001b[0m\u001b[0mplayer_profiles\u001b[0m \u001b[0;34m=\u001b[0m \u001b[0;34m[\u001b[0m\u001b[0mdefault_player_profile\u001b[0m\u001b[0;34m,\u001b[0m\u001b[0mrf_player_profile\u001b[0m\u001b[0;34m]\u001b[0m\u001b[0;34m)\u001b[0m\u001b[0;34m\u001b[0m\u001b[0;34m\u001b[0m\u001b[0m\n\u001b[0m\u001b[1;32m      2\u001b[0m \u001b[0mmatch\u001b[0m\u001b[0;34m.\u001b[0m\u001b[0mrun_match\u001b[0m\u001b[0;34m(\u001b[0m\u001b[0;34m)\u001b[0m\u001b[0;34m\u001b[0m\u001b[0;34m\u001b[0m\u001b[0m\n\u001b[1;32m      3\u001b[0m \u001b[0mprint\u001b[0m\u001b[0;34m(\u001b[0m\u001b[0mmatch\u001b[0m\u001b[0;34m.\u001b[0m\u001b[0ma\u001b[0m\u001b[0;34m.\u001b[0m\u001b[0mmatch\u001b[0m\u001b[0;34m)\u001b[0m\u001b[0;34m\u001b[0m\u001b[0;34m\u001b[0m\u001b[0m\n\u001b[1;32m      4\u001b[0m \u001b[0mprint\u001b[0m\u001b[0;34m(\u001b[0m\u001b[0mmatch\u001b[0m\u001b[0;34m.\u001b[0m\u001b[0mb\u001b[0m\u001b[0;34m.\u001b[0m\u001b[0mmatch\u001b[0m\u001b[0;34m)\u001b[0m\u001b[0;34m\u001b[0m\u001b[0;34m\u001b[0m\u001b[0m\n\u001b[1;32m      5\u001b[0m \u001b[0;32mdel\u001b[0m \u001b[0mmatch\u001b[0m\u001b[0;34m\u001b[0m\u001b[0;34m\u001b[0m\u001b[0m\n",
      "\u001b[0;31mNameError\u001b[0m: name 'Match' is not defined"
     ]
    }
   ],
   "source": [
    "match = Match(1,player_profiles = [default_player_profile,rf_player_profile]) \n",
    "match.run_match()\n",
    "print(match.a.match)\n",
    "print(match.b.match)\n",
    "del match"
   ]
  },
  {
   "cell_type": "code",
   "execution_count": 54,
   "id": "bcf31e71-e03e-4980-87be-948de043e94d",
   "metadata": {},
   "outputs": [
    {
     "name": "stdout",
     "output_type": "stream",
     "text": [
      "724 ms ± 16.8 ms per loop (mean ± std. dev. of 7 runs, 1 loop each)\n"
     ]
    }
   ],
   "source": [
    "%%timeit\n",
    "import importlib\n",
    "importlib.reload(tensim)\n",
    "import tenprofiles\n",
    "from plotly.subplots import make_subplots\n",
    "\n",
    "# number of iterations\n",
    "sims = 1000\n",
    "\n",
    "#iterate through matches\n",
    "results = [0] * sims\n",
    "#numpy vectoristion is not much faster\n",
    "tenprofiles.default_player_profile[\"win_serve_p\"] = 0.6\n",
    "tenprofiles.default_player_profile[\"point_streak_adv\"] = 0.01\n",
    "\n",
    "tenprofiles.rf_player_profile[\"win_serve_p\"] = 0.6\n",
    "tenprofiles.rf_player_profile[\"point_streak_adv\"] = 0.02\n",
    "\n",
    "for i,income in enumerate(range(0,sims)):\n",
    "\n",
    "    match = tensim.Match(1, i , player_profiles = [tenprofiles.default_player_profile,tenprofiles.rf_player_profile], set_limit = 3)\n",
    "    match.run_match()\n",
    "    results[i] = (match.a.match)\n",
    "    #del match              \n",
    "    \n",
    "    #\n",
    "wins = sum(results)\n",
    "matches_statement = \"Player A won {} out of {} matches ({}%)\".format(wins,sims,float(wins)/sims)\n",
    "fig = make_subplots()"
   ]
  },
  {
   "cell_type": "code",
   "execution_count": 58,
   "id": "6f1e54dd-07cc-4ea5-a690-d6c4ddfc237a",
   "metadata": {},
   "outputs": [
    {
     "name": "stdout",
     "output_type": "stream",
     "text": [
      "[Taichi] Starting on arch=x64\n"
     ]
    },
    {
     "ename": "TaichiCompilationError",
     "evalue": "\nOn line 10 of file \"/tmp/ipykernel_1214473/851099460.py\", in count_primes:\n    tenprofiles.default_player_profile[\"win_serve_p\"] = 0.6\n    ^^^^^^^^^^^^^^^^^^^^^^^^^^^^^^^^^^^^^^^^^^^^^^^^^^^^^^^\nTraceback (most recent call last):\n  File \"/home/chez/env/lib/python3.9/site-packages/taichi/lang/ast/ast_transformer.py\", line 199, in build_assign_basic\n    var._assign(value)\nAttributeError: 'float' object has no attribute '_assign'\n\nDuring handling of the above exception, another exception occurred:\n\nTraceback (most recent call last):\n  File \"/home/chez/env/lib/python3.9/site-packages/taichi/lang/ast/ast_transformer_utils.py\", line 24, in __call__\n    return method(ctx, node)\n  File \"/home/chez/env/lib/python3.9/site-packages/taichi/lang/ast/ast_transformer.py\", line 104, in build_Assign\n    ASTTransformer.build_assign_unpack(ctx, node_target, values,\n  File \"/home/chez/env/lib/python3.9/site-packages/taichi/lang/ast/ast_transformer.py\", line 141, in build_assign_unpack\n    return ASTTransformer.build_assign_slice(ctx, node_target, values,\n  File \"/home/chez/env/lib/python3.9/site-packages/taichi/lang/ast/ast_transformer.py\", line 122, in build_assign_slice\n    ASTTransformer.build_assign_basic(ctx,\n  File \"/home/chez/env/lib/python3.9/site-packages/taichi/lang/ast/ast_transformer.py\", line 202, in build_assign_basic\n    f\"Variable '{unparse(target).strip()}' cannot be assigned. Maybe it is not a Taichi object?\"\n  File \"/usr/lib/python3.9/ast.py\", line 1564, in unparse\n    return unparser.visit(ast_obj)\n  File \"/usr/lib/python3.9/ast.py\", line 801, in visit\n    self.traverse(node)\n  File \"/usr/lib/python3.9/ast.py\", line 795, in traverse\n    super().visit(node)\n  File \"/usr/lib/python3.9/ast.py\", line 407, in visit\n    return visitor(node)\n  File \"/usr/lib/python3.9/ast.py\", line 411, in generic_visit\n    for field, value in iter_fields(node):\n  File \"/usr/lib/python3.9/ast.py\", line 249, in iter_fields\n    for field in node._fields:\nAttributeError: 'float' object has no attribute '_fields'\n",
     "output_type": "error",
     "traceback": [
      "\u001b[0;31m---------------------------------------------------------------------------\u001b[0m",
      "\u001b[0;31mTaichiCompilationError\u001b[0m                    Traceback (most recent call last)",
      "\u001b[0;32m/tmp/ipykernel_1214473/851099460.py\u001b[0m in \u001b[0;36m<module>\u001b[0;34m\u001b[0m\n\u001b[1;32m     27\u001b[0m     \u001b[0;32mreturn\u001b[0m \u001b[0msum\u001b[0m\u001b[0;34m(\u001b[0m\u001b[0mresults\u001b[0m\u001b[0;34m)\u001b[0m\u001b[0;34m\u001b[0m\u001b[0;34m\u001b[0m\u001b[0m\n\u001b[1;32m     28\u001b[0m \u001b[0;34m\u001b[0m\u001b[0m\n\u001b[0;32m---> 29\u001b[0;31m \u001b[0mprint\u001b[0m\u001b[0;34m(\u001b[0m\u001b[0mcount_primes\u001b[0m\u001b[0;34m(\u001b[0m\u001b[0;36m1000\u001b[0m\u001b[0;34m)\u001b[0m\u001b[0;34m)\u001b[0m\u001b[0;34m\u001b[0m\u001b[0;34m\u001b[0m\u001b[0m\n\u001b[0m\u001b[1;32m     30\u001b[0m \u001b[0;34m\u001b[0m\u001b[0m\n\u001b[1;32m     31\u001b[0m \u001b[0;34m\u001b[0m\u001b[0m\n",
      "\u001b[0;32m~/env/lib/python3.9/site-packages/taichi/lang/kernel_impl.py\u001b[0m in \u001b[0;36mwrapped\u001b[0;34m(*args, **kwargs)\u001b[0m\n\u001b[1;32m    918\u001b[0m                 \u001b[0;32mreturn\u001b[0m \u001b[0mprimal\u001b[0m\u001b[0;34m(\u001b[0m\u001b[0;34m*\u001b[0m\u001b[0margs\u001b[0m\u001b[0;34m,\u001b[0m \u001b[0;34m**\u001b[0m\u001b[0mkwargs\u001b[0m\u001b[0;34m)\u001b[0m\u001b[0;34m\u001b[0m\u001b[0;34m\u001b[0m\u001b[0m\n\u001b[1;32m    919\u001b[0m             \u001b[0;32mexcept\u001b[0m \u001b[0;34m(\u001b[0m\u001b[0mTaichiCompilationError\u001b[0m\u001b[0;34m,\u001b[0m \u001b[0mTaichiRuntimeError\u001b[0m\u001b[0;34m)\u001b[0m \u001b[0;32mas\u001b[0m \u001b[0me\u001b[0m\u001b[0;34m:\u001b[0m\u001b[0;34m\u001b[0m\u001b[0;34m\u001b[0m\u001b[0m\n\u001b[0;32m--> 920\u001b[0;31m                 \u001b[0;32mraise\u001b[0m \u001b[0mtype\u001b[0m\u001b[0;34m(\u001b[0m\u001b[0me\u001b[0m\u001b[0;34m)\u001b[0m\u001b[0;34m(\u001b[0m\u001b[0;34m'\\n'\u001b[0m \u001b[0;34m+\u001b[0m \u001b[0mstr\u001b[0m\u001b[0;34m(\u001b[0m\u001b[0me\u001b[0m\u001b[0;34m)\u001b[0m\u001b[0;34m)\u001b[0m \u001b[0;32mfrom\u001b[0m \u001b[0;32mNone\u001b[0m\u001b[0;34m\u001b[0m\u001b[0;34m\u001b[0m\u001b[0m\n\u001b[0m\u001b[1;32m    921\u001b[0m \u001b[0;34m\u001b[0m\u001b[0m\n\u001b[1;32m    922\u001b[0m         \u001b[0mwrapped\u001b[0m\u001b[0;34m.\u001b[0m\u001b[0mgrad\u001b[0m \u001b[0;34m=\u001b[0m \u001b[0madjoint\u001b[0m\u001b[0;34m\u001b[0m\u001b[0;34m\u001b[0m\u001b[0m\n",
      "\u001b[0;31mTaichiCompilationError\u001b[0m: \nOn line 10 of file \"/tmp/ipykernel_1214473/851099460.py\", in count_primes:\n    tenprofiles.default_player_profile[\"win_serve_p\"] = 0.6\n    ^^^^^^^^^^^^^^^^^^^^^^^^^^^^^^^^^^^^^^^^^^^^^^^^^^^^^^^\nTraceback (most recent call last):\n  File \"/home/chez/env/lib/python3.9/site-packages/taichi/lang/ast/ast_transformer.py\", line 199, in build_assign_basic\n    var._assign(value)\nAttributeError: 'float' object has no attribute '_assign'\n\nDuring handling of the above exception, another exception occurred:\n\nTraceback (most recent call last):\n  File \"/home/chez/env/lib/python3.9/site-packages/taichi/lang/ast/ast_transformer_utils.py\", line 24, in __call__\n    return method(ctx, node)\n  File \"/home/chez/env/lib/python3.9/site-packages/taichi/lang/ast/ast_transformer.py\", line 104, in build_Assign\n    ASTTransformer.build_assign_unpack(ctx, node_target, values,\n  File \"/home/chez/env/lib/python3.9/site-packages/taichi/lang/ast/ast_transformer.py\", line 141, in build_assign_unpack\n    return ASTTransformer.build_assign_slice(ctx, node_target, values,\n  File \"/home/chez/env/lib/python3.9/site-packages/taichi/lang/ast/ast_transformer.py\", line 122, in build_assign_slice\n    ASTTransformer.build_assign_basic(ctx,\n  File \"/home/chez/env/lib/python3.9/site-packages/taichi/lang/ast/ast_transformer.py\", line 202, in build_assign_basic\n    f\"Variable '{unparse(target).strip()}' cannot be assigned. Maybe it is not a Taichi object?\"\n  File \"/usr/lib/python3.9/ast.py\", line 1564, in unparse\n    return unparser.visit(ast_obj)\n  File \"/usr/lib/python3.9/ast.py\", line 801, in visit\n    self.traverse(node)\n  File \"/usr/lib/python3.9/ast.py\", line 795, in traverse\n    super().visit(node)\n  File \"/usr/lib/python3.9/ast.py\", line 407, in visit\n    return visitor(node)\n  File \"/usr/lib/python3.9/ast.py\", line 411, in generic_visit\n    for field, value in iter_fields(node):\n  File \"/usr/lib/python3.9/ast.py\", line 249, in iter_fields\n    for field in node._fields:\nAttributeError: 'float' object has no attribute '_fields'\n"
     ]
    }
   ],
   "source": [
    "import taichi as ti\n",
    "ti.init()\n",
    "import tenprofiles\n",
    "@ti.kernel\n",
    "def count_primes(sims: int) -> int:\n",
    "    results = 0\n",
    "    #iterate through matches\n",
    "\n",
    "    #numpy vectoristion is not much faster\n",
    "    tenprofiles.default_player_profile[\"win_serve_p\"] = 0.6\n",
    "    tenprofiles.default_player_profile[\"point_streak_adv\"] = 0.01\n",
    "\n",
    "    tenprofiles.rf_player_profile[\"win_serve_p\"] = 0.6\n",
    "    tenprofiles.rf_player_profile[\"point_streak_adv\"] = 0.02\n",
    "\n",
    "    for i,income in enumerate(range(0,sims)):\n",
    "\n",
    "        match = tensim.Match(1, i , player_profiles = [tenprofiles.default_player_profile,tenprofiles.rf_player_profile], set_limit = 3)\n",
    "        match.run_match()\n",
    "        results += (match.a.match)\n",
    "        #del match              \n",
    "\n",
    "        #\n",
    "    wins = sum(results)\n",
    "    matches_statement = \"Player A won {} out of {} matches ({}%)\".format(wins,sims,float(wins)/sims)\n",
    "    fig = make_subplots()\n",
    "    return sum(results)\n",
    "\n",
    "print(count_primes(1000))\n",
    "\n",
    "\n"
   ]
  },
  {
   "cell_type": "code",
   "execution_count": 21,
   "id": "34118616-e5d2-4f43-92d2-5e82534bc011",
   "metadata": {},
   "outputs": [
    {
     "name": "stdout",
     "output_type": "stream",
     "text": [
      "4988 10000\n",
      "4996 10000\n",
      "5087 10000\n",
      "4977 10000\n",
      "4975 10000\n",
      "5058 10000\n",
      "5024 10000\n",
      "5013 10000\n",
      "5.98 s ± 100 ms per loop (mean ± std. dev. of 7 runs, 1 loop each)\n"
     ]
    }
   ],
   "source": [
    "%%timeit\n",
    "import importlib\n",
    "import tensim_numba\n",
    "importlib.reload(tensim_numba)\n",
    "\n",
    "\n",
    "i = 0 \n",
    "a_match = 0 \n",
    "while i < 10000 :\n",
    "    match = tensim_numba.Match(1, i )\n",
    "    match.run_match()\n",
    "    a_match = a_match + match.a.match\n",
    "    i = i + 1 \n",
    "    del match\n",
    "print(a_match,i)"
   ]
  },
  {
   "cell_type": "code",
   "execution_count": null,
   "id": "b8303db4-8869-492c-9fd7-6d1f609c33f3",
   "metadata": {},
   "outputs": [],
   "source": []
  }
 ],
 "metadata": {
  "kernelspec": {
   "display_name": "Python 3 (ipykernel)",
   "language": "python",
   "name": "python3"
  },
  "language_info": {
   "codemirror_mode": {
    "name": "ipython",
    "version": 3
   },
   "file_extension": ".py",
   "mimetype": "text/x-python",
   "name": "python",
   "nbconvert_exporter": "python",
   "pygments_lexer": "ipython3",
   "version": "3.9.2"
  }
 },
 "nbformat": 4,
 "nbformat_minor": 5
}
