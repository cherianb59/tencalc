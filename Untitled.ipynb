{
 "cells": [
  {
   "cell_type": "code",
   "execution_count": 9,
   "id": "e1818e4a-e4cb-4c17-95a9-026dbdee5e4f",
   "metadata": {},
   "outputs": [
    {
     "name": "stdout",
     "output_type": "stream",
     "text": [
      "[-1.  -0.8 -0.6 -0.4 -0.2 -0.   0.2  0.4  0.6  0.8  1. ]\n"
     ]
    }
   ],
   "source": [
    "import numpy as np \n",
    "def slider_range(min,max,step=1):\n",
    "  sr = np.around((np.arange(min,max + step,step)),2)\n",
    "  \n",
    "  if sr[-1] != max: sr[-1] = max\n",
    "  return(sr)\n",
    "\n",
    "print(slider_range(-1,1,0.2))"
   ]
  },
  {
   "cell_type": "code",
   "execution_count": 266,
   "id": "656ffd65-2d42-4b6f-80e8-4f767dc3560d",
   "metadata": {},
   "outputs": [
    {
     "name": "stdout",
     "output_type": "stream",
     "text": [
      "0\n",
      "1\n"
     ]
    }
   ],
   "source": [
    "match = Match(1,player_profiles = [default_player_profile,rf_player_profile]) \n",
    "match.run_match()\n",
    "print(match.a.match)\n",
    "print(match.b.match)\n",
    "del match"
   ]
  },
  {
   "cell_type": "code",
   "execution_count": 269,
   "id": "bcf31e71-e03e-4980-87be-948de043e94d",
   "metadata": {},
   "outputs": [
    {
     "name": "stdout",
     "output_type": "stream",
     "text": [
      "267 1000\n"
     ]
    }
   ],
   "source": [
    "#%%timeit\n",
    "i = 0 \n",
    "a_match = 0 \n",
    "while i < 1000 :\n",
    "    match = Match(1, i , player_profiles = [default_player_profile,rf_player_profile])\n",
    "    match.run_match()\n",
    "    a_match = a_match + match.a.match\n",
    "    i = i + 1 \n",
    "    del match\n",
    "print(a_match,i)"
   ]
  },
  {
   "cell_type": "code",
   "execution_count": 100,
   "id": "da806f1f-94c3-4b8f-81a4-0d58c238a4b3",
   "metadata": {},
   "outputs": [
    {
     "name": "stdout",
     "output_type": "stream",
     "text": [
      "57135 100000\n"
     ]
    }
   ],
   "source": [
    "i = 0 \n",
    "a_set = 0 \n",
    "while i < 100000 :\n",
    "    a_set = a_set + set(0.51)\n",
    "    i = i + 1 \n",
    "print(a_set,i)"
   ]
  }
 ],
 "metadata": {
  "kernelspec": {
   "display_name": "Python 3 (ipykernel)",
   "language": "python",
   "name": "python3"
  },
  "language_info": {
   "codemirror_mode": {
    "name": "ipython",
    "version": 3
   },
   "file_extension": ".py",
   "mimetype": "text/x-python",
   "name": "python",
   "nbconvert_exporter": "python",
   "pygments_lexer": "ipython3",
   "version": "3.9.2"
  }
 },
 "nbformat": 4,
 "nbformat_minor": 5
}
